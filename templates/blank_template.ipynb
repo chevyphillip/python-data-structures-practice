{
  "nbformat": 4,
  "nbformat_minor": 5,
  "metadata": {},
  "cells": [
    {
      "id": "d19c11ed",
      "cell_type": "markdown",
      "source": "# TITLE HERE\n## \ud83d\udfe2 Beginner Level\n\n**Goal**: Describe the learning goal here\n\n**Time**: ~30 minutes\n\n---",
      "metadata": {}
    },
    {
      "id": "3298f222",
      "cell_type": "markdown",
      "source": "## Exercise 1: Description\n\n**Instructions**: Describe what the learner should accomplish.\n\n```python\n# Your code here\n```",
      "metadata": {}
    },
    {
      "id": "e73af8f4",
      "cell_type": "code",
      "metadata": {},
      "execution_count": null,
      "source": "# TODO: Solve Exercise 1",
      "outputs": []
    }
  ]
}