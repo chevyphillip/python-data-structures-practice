{
  "cells": [
    {
      "cell_type": "markdown",
      "metadata": {},
      "source": [
        "# Python Data Structures + While Loops Assessment\n",
        "\n",
        "**Course:** WGU MSSWEAIE - Data Structures & Algorithms  \n",
        "**Focus:** Integration of core data structures with iterative control flow  \n",
        "**Mentor:** ProfessorSigma\n",
        "\n",
        "---\n",
        "\n",
        "## Assessment Overview\n",
        "\n",
        "This notebook tests your understanding of:\n",
        "- **Lists, Dictionaries, Sets** - Core operations and methods\n",
        "- **While Loops** - Proper iteration and condition management\n",
        "- **Algorithm Thinking** - Choosing appropriate data structures\n",
        "- **Debugging Skills** - Identifying common iteration pitfalls\n",
        "\n",
        "**Instructions:**\n",
        "1. Read each question carefully\n",
        "2. Write your code in the provided cells\n",
        "3. Test your solutions with the given examples\n",
        "4. Answer the reflection questions in markdown cells\n",
        "\n",
        "---"
      ]
    },
    {
      "cell_type": "markdown",
      "metadata": {},
      "source": [
        "## Question 1: List Processing with While Loop\n",
        "\n",
        "**Scenario:** You need to clean data by removing specific values from a list.\n",
        "\n",
        "**Task:** Use a while loop to remove ALL occurrences of the number `1` from the list."
      ]
    },
    {
      "cell_type": "code",
      "execution_count": null,
      "metadata": {},
      "source": [
        "# Given data\n",
        "numbers = [3, 1, 4, 1, 5, 9, 2, 6, 1]\n",
        "print(f\"Original list: {numbers}\")\n",
        "\n",
        "# Your solution here - use a while loop to remove all 1's\n",
        "\n",
        "\n",
        "\n",
        "print(f\"Cleaned list: {numbers}\")\n",
        "# Expected output: [3, 4, 5, 9, 2, 6]"
      ],
      "outputs": []
    },
    {
      "cell_type": "markdown",
      "metadata": {},
      "source": [
        "**Reflection Question 1B:**\n",
        "\n",
        "What's a common mistake when removing elements during iteration? Write your answer in the cell below:"
      ]
    },
    {
      "cell_type": "markdown",
      "metadata": {},
      "source": [
        "**Your Answer:**\n",
        "\n",
        "(Write your explanation here)"
      ]
    },
    {
      "cell_type": "markdown",
      "metadata": {},
      "source": [
        "---\n",
        "\n",
        "## Question 2: Dictionary Building with User Input\n",
        "\n",
        "**Scenario:** Building a grade tracking system that handles user input.\n",
        "\n",
        "**Task:** Create a while loop that simulates collecting student grades."
      ]
    },
    {
      "cell_type": "code",
      "execution_count": null,
      "metadata": {},
      "source": [
        "# Grade collection system\n",
        "grades = {}\n",
        "\n",
        "# Test data (simulating user input)\n",
        "# In real implementation, you'd use input() function\n",
        "test_inputs = [\n",
        "    (\"Alice\", 85),\n",
        "    (\"Bob\", 92), \n",
        "    (\"Alice\", 78),  # Duplicate - should average with previous\n",
        "    (\"Charlie\", 95),\n",
        "    (\"quit\", 0)\n",
        "]\n",
        "\n",
        "# Your while loop solution here\n",
        "# Requirements:\n",
        "# 1. Continue until \"quit\" is entered\n",
        "# 2. Store name-grade pairs in dictionary\n",
        "# 3. Handle duplicate names by averaging grades\n",
        "# 4. Use the test_inputs for simulation\n",
        "\n",
        "input_index = 0\n",
        "\n",
        "# Write your while loop here\n",
        "\n",
        "\n",
        "\n",
        "print(f\"Final grades: {grades}\")\n",
        "# Expected: {'Alice': 81.5, 'Bob': 92, 'Charlie': 95}"
      ],
      "outputs": []
    },
    {
      "cell_type": "markdown",
      "metadata": {},
      "source": [
        "**Reflection Question 2B:**\n",
        "\n",
        "What loop condition prevents infinite loops in user input scenarios?"
      ]
    },
    {
      "cell_type": "markdown",
      "metadata": {},
      "source": [
        "**Your Answer:**\n",
        "\n",
        "(Write your explanation here)"
      ]
    },
    {
      "cell_type": "markdown",
      "metadata": {},
      "source": [
        "---\n",
        "\n",
        "## Question 3: Set Operations with Validation Loop\n",
        "\n",
        "**Scenario:** Building a role management system with input validation.\n",
        "\n",
        "**Task:** Create a while loop with set operations and validation."
      ]
    },
    {
      "cell_type": "code",
      "execution_count": null,
      "metadata": {},
      "source": [
        "# Role management system\n",
        "valid_roles = {'admin', 'editor', 'viewer', 'guest'}\n",
        "user_roles = set()\n",
        "\n",
        "# Test inputs (simulating user entries)\n",
        "test_role_inputs = ['admin', 'invalid_role', 'editor', 'admin', 'viewer', 'done']\n",
        "\n",
        "print(f\"Valid roles: {valid_roles}\")\n",
        "print(\"Enter roles one at a time (type 'done' to finish):\\n\")\n",
        "\n",
        "# Your solution here\n",
        "# Requirements:\n",
        "# 1. Continue until \"done\" is entered\n",
        "# 2. Only add valid roles to user_roles set\n",
        "# 3. Show message for invalid roles\n",
        "# 4. Display current roles after each valid addition\n",
        "# 5. Use test_role_inputs for simulation\n",
        "\n",
        "input_index = 0\n",
        "\n",
        "# Write your while loop here\n",
        "\n",
        "\n",
        "\n",
        "print(f\"\\nFinal user roles: {user_roles}\")\n",
        "# Expected: {'admin', 'editor', 'viewer'}"
      ],
      "outputs": []
    },
    {
      "cell_type": "markdown",
      "metadata": {},
      "source": [
        "---\n",
        "\n",
        "## Question 4: Data Structure + Loop Choice\n",
        "\n",
        "**Scenario Analysis:** You're processing a task queue system.\n",
        "\n",
        "**Requirements:**\n",
        "- Remove completed tasks from the front\n",
        "- Add new tasks to the back  \n",
        "- Continue until queue is empty\n",
        "- Track completion count"
      ]
    },
    {
      "cell_type": "markdown",
      "metadata": {},
      "source": [
        "**Question 4A:** Which data structure + loop combination would you choose?\n",
        "\n",
        "Options:\n",
        "- List with while loop\n",
        "- Dictionary with while loop  \n",
        "- Set with while loop\n",
        "- Other combination\n",
        "\n",
        "**Your Choice & Reasoning:**\n",
        "\n",
        "(Write your answer here)"
      ]
    },
    {
      "cell_type": "code",
      "execution_count": null,
      "metadata": {},
      "source": [
        "# Implement your chosen solution here\n",
        "# Test with this task queue:\n",
        "task_queue = [\"Process payment\", \"Send email\", \"Update database\", \"Generate report\"]\n",
        "completion_count = 0\n",
        "\n",
        "print(f\"Initial queue: {task_queue}\")\n",
        "\n",
        "# Your implementation here\n",
        "\n",
        "\n",
        "\n",
        "print(f\"All tasks completed! Total: {completion_count}\")"
      ],
      "outputs": []
    },
    {
      "cell_type": "markdown",
      "metadata": {},
      "source": [
        "---\n",
        "\n",
        "## Question 5: Debugging Loop Logic\n",
        "\n",
        "**Scenario:** There's a bug in this inventory management code.\n",
        "\n",
        "**Task:** Identify the problem and provide a corrected version."
      ]
    },
    {
      "cell_type": "code",
      "execution_count": null,
      "metadata": {},
      "source": [
        "# BUGGY CODE - DO NOT RUN (it will cause an error)\n",
        "# Analyze this code first, then write the corrected version below\n",
        "\n",
        "\"\"\"\n",
        "inventory = {'apples': 10, 'bananas': 5, 'oranges': 0, 'grapes': 0}\n",
        "restocking_needed = []\n",
        "\n",
        "# Find items that need restocking (quantity = 0)\n",
        "items = list(inventory.keys())\n",
        "i = 0\n",
        "while i < len(items):\n",
        "    if inventory[items[i]] == 0:\n",
        "        restocking_needed.append(items[i])\n",
        "        del inventory[items[i]]  # This line has the issue\n",
        "    i += 1\n",
        "\n",
        "print(f\"Items needing restock: {restocking_needed}\")\n",
        "print(f\"Remaining inventory: {inventory}\")\n",
        "\"\"\"\n",
        "\n",
        "print(\"Analyzing the buggy code above...\")"
      ],
      "outputs": []
    },
    {
      "cell_type": "markdown",
      "metadata": {},
      "source": [
        "**What's the problem?**\n",
        "\n",
        "(Explain the bug here)"
      ]
    },
    {
      "cell_type": "code",
      "execution_count": null,
      "metadata": {},
      "source": [
        "# CORRECTED VERSION\n",
        "inventory = {'apples': 10, 'bananas': 5, 'oranges': 0, 'grapes': 0}\n",
        "restocking_needed = []\n",
        "\n",
        "print(f\"Original inventory: {inventory}\")\n",
        "\n",
        "# Write your corrected solution here\n",
        "\n",
        "\n",
        "\n",
        "print(f\"Items needing restock: {restocking_needed}\")\n",
        "print(f\"Remaining inventory: {inventory}\")\n",
        "# Expected: restocking_needed = ['oranges', 'grapes']"
      ],
      "outputs": []
    },
    {
      "cell_type": "markdown",
      "metadata": {},
      "source": [
        "---\n",
        "\n",
        "## Self-Assessment Reflection\n",
        "\n",
        "After completing all questions, reflect on your learning:"
      ]
    },
    {
      "cell_type": "markdown",
      "metadata": {},
      "source": [
        "**1. Which question was most challenging and why?**\n",
        "\n",
        "(Your reflection here)\n",
        "\n",
        "**2. What's one key insight you gained about combining data structures with loops?**\n",
        "\n",
        "(Your reflection here)\n",
        "\n",
        "**3. In your MSSWEAIE studies, where might these patterns be most useful?**\n",
        "\n",
        "(Your reflection here)"
      ]
    },
    {
      "cell_type": "markdown",
      "metadata": {},
      "source": [
        "---\n",
        "\n",
        "## Next Steps\n",
        "\n",
        "Based on your performance:\n",
        "\n",
        "- **Strong in all areas:** Ready for advanced algorithms (sorting, searching)\n",
        "- **Need loop practice:** Focus on iteration patterns and edge cases\n",
        "- **Data structure gaps:** Review specific operations and time complexity\n",
        "- **Integration challenges:** Practice more combined scenarios\n",
        "\n",
        "**Share your completed notebook with ProfessorSigma for personalized feedback and next learning objectives!**"
      ]
    }
  ],
  "metadata": {
    "kernelspec": {
      "display_name": "Python 3",
      "language": "python",
      "name": "python3"
    },
    "language_info": {
      "codemirror_mode": {
        "name": "ipython",
        "version": 3
      },
      "file_extension": ".py",
      "name": "python",
      "nbconvert_exporter": "python",
      "pygments_lexer": "ipython3",
      "version": "3.12.0"
    }
  },
  "nbformat": 4,
  "nbformat_minor": 4
}
