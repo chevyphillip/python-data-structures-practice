{
 "cells": [
  {
   "cell_type": "markdown",
   "metadata": {},
   "source": [
    "# Lists Basics - Foundation Exercises\n",
    "## 🟢 Beginner Level\n",
    "\n",
    "**Goal**: Master list creation, indexing, slicing, and basic operations\n",
    "\n",
    "**Time**: ~30 minutes\n",
    "\n",
    "---"
   ]
  },
  {
   "cell_type": "markdown",
   "metadata": {},
   "source": [
    "## Exercise 1: Music Playlist Creation\n",
    "\n",
    "**Instructions**: Create a playlist from the given data\n",
    "\n",
    "**Given data**:\n",
    "```\n",
    "music_data = [\"Blinding Lights\", \"The Weeknd\", \"Pop\", \"One Dance\", \"Drake\", \"Pop\", \n",
    "              \"Bohemian Rhapsody\", \"Queen\", \"Rock\", \"Shape of You\", \"Ed Sheeran\", \"Pop\"]\n",
    "```\n",
    "\n",
    "**Tasks**:\n",
    "1. Extract only the song titles (every 3rd item starting at index 0)\n",
    "2. Extract only the artists (every 3rd item starting at index 1)\n",
    "3. Extract only the genres (every 3rd item starting at index 2)\n",
    "4. Print each list separately\n",
    "\n",
    "**Hint**: Use slicing with `[start::step]` syntax"
   ]
  },
  {
   "cell_type": "code",
   "execution_count": 1,
   "metadata": {},
   "outputs": [
    {
     "name": "stdout",
     "output_type": "stream",
     "text": [
      "Songs: ['Blinding Lights', 'One Dance', 'Bohemian Rhapsody', 'Shape of You']\n",
      "Artists: ['The Weeknd', 'Drake', 'Queen', 'Ed Sheeran']\n",
      "Genres: ['Pop', 'Pop', 'Rock', 'Pop']\n"
     ]
    }
   ],
   "source": [
    "# Exercise 1: Your solution here\n",
    "music_data = [\"Blinding Lights\", \"The Weeknd\", \"Pop\", \"One Dance\", \"Drake\", \"Pop\",\n",
    "              \"Bohemian Rhapsody\", \"Queen\", \"Rock\", \"Shape of You\", \"Ed Sheeran\", \"Pop\"]\n",
    "\n",
    "# TODO: Extract songs, artists, and genres\n",
    "songs = music_data[::3]\n",
    "artists = music_data[1::3]\n",
    "genres = music_data[2::3]\n",
    "\n",
    "print(\"Songs:\", songs)\n",
    "print(\"Artists:\", artists)\n",
    "print(\"Genres:\", genres)\n"
   ]
  },
  {
   "cell_type": "markdown",
   "metadata": {},
   "source": [
    "## Exercise 2: List Manipulation\n",
    "\n",
    "**Instructions**: Work with student test scores\n",
    "\n",
    "**Given**:\n",
    "```\n",
    "test_scores = [85, 92, 78, 96, 88, 76, 94, 82, 90, 87]\n",
    "```\n",
    "\n",
    "**Tasks**:\n",
    "1. Find the highest score\n",
    "2. Find the lowest score  \n",
    "3. Calculate the average\n",
    "4. Get scores above 90\n",
    "5. Get the last 3 scores\n",
    "6. Reverse the entire list"
   ]
  },
  {
   "cell_type": "code",
   "execution_count": 2,
   "metadata": {},
   "outputs": [
    {
     "name": "stdout",
     "output_type": "stream",
     "text": [
      "Highest: 96\n",
      "Lowest: 76\n",
      "Average: 86.8\n",
      "High scores: [92, 96, 94]\n",
      "Last three: [82, 90, 87]\n",
      "Reversed: [87, 90, 82, 94, 76, 88, 96, 78, 92, 85]\n"
     ]
    }
   ],
   "source": [
    "# Exercise 2: Your solution here\n",
    "test_scores = [85, 92, 78, 96, 88, 76, 94, 82, 90, 87]\n",
    "\n",
    "# TODO: Find highest and lowest\n",
    "highest = max(test_scores)\n",
    "lowest = min(test_scores)\n",
    "\n",
    "# TODO: Calculate average\n",
    "average = sum(test_scores) / len(test_scores)\n",
    "\n",
    "# TODO: Filter scores above 90\n",
    "high_scores = [score for score in test_scores if score > 90]\n",
    "\n",
    "# TODO: Get last 3 scores\n",
    "last_three = test_scores[-3:]\n",
    "\n",
    "# TODO: Reverse the list\n",
    "reversed_scores = test_scores[::-1]\n",
    "\n",
    "print(f\"Highest: {highest}\")\n",
    "print(f\"Lowest: {lowest}\")\n",
    "print(f\"Average: {average}\")\n",
    "print(f\"High scores: {high_scores}\")\n",
    "print(f\"Last three: {last_three}\")\n",
    "print(f\"Reversed: {reversed_scores}\")"
   ]
  },
  {
   "cell_type": "markdown",
   "metadata": {},
   "source": [
    "## Exercise 3: List Comprehensions (🟡 Intermediate)\n",
    "\n",
    "**Instructions**: Practice creating lists with comprehensions\n",
    "\n",
    "**Tasks**:\n",
    "1. Create a list of squares from 1 to 10\n",
    "2. Create a list of even numbers from 0 to 20\n",
    "3. From a list of words, get only words longer than 4 characters\n",
    "4. Convert temperatures from Celsius to Fahrenheit\n",
    "\n",
    "**Formulas**: \n",
    "- Square: `n**2`\n",
    "- Even: `n % 2 == 0`\n",
    "- Fahrenheit: `(celsius * 9/5) + 32`"
   ]
  },
  {
   "cell_type": "code",
   "execution_count": null,
   "metadata": {},
   "outputs": [],
   "source": [
    "# Exercise 3: Your solution here\n",
    "\n",
    "# TODO: Squares from 1 to 10\n",
    "squares = None  # TODO: Use list comprehension [x**2 for x in range(1, 11)]\n",
    "\n",
    "# TODO: Even numbers 0 to 20\n",
    "evens = None  # TODO: Use list comprehension [x for x in range(21) if x % 2 == 0]\n",
    "\n",
    "# TODO: Long words (>4 chars)\n",
    "words = [\"cat\", \"elephant\", \"dog\", \"rhinoceros\", \"bird\", \"hippopotamus\"]\n",
    "long_words = None  # TODO: Filter words with len(word) > 4\n",
    "\n",
    "# TODO: Celsius to Fahrenheit\n",
    "celsius_temps = [0, 10, 20, 30, 37, 100]\n",
    "fahrenheit_temps = None  # TODO: Convert using formula (c * 9/5) + 32\n",
    "\n",
    "print(f\"Squares: {squares}\")\n",
    "print(f\"Evens: {evens}\")\n",
    "print(f\"Long words: {long_words}\")\n",
    "print(f\"Fahrenheit: {fahrenheit_temps}\")"
   ]
  },
  {
   "cell_type": "markdown",
   "metadata": {},
   "source": [
    "## 🎯 Quick Challenge\n",
    "\n",
    "**Problem**: You have a mixed list of data types. Clean and organize it.\n",
    "\n",
    "```python\n",
    "messy_data = [1, \"hello\", 3.14, \"world\", 42, \"python\", 2.71, \"coding\"]\n",
    "```\n",
    "\n",
    "**Tasks**:\n",
    "1. Separate into numbers and strings\n",
    "2. Sort each list\n",
    "3. Combine back into one list (numbers first, then strings)\n",
    "\n",
    "**Hint**: Use `isinstance(item, int)` or `isinstance(item, str)` to check types"
   ]
  },
  {
   "cell_type": "code",
   "execution_count": null,
   "metadata": {},
   "outputs": [],
   "source": [
    "# Challenge: Your solution here\n",
    "messy_data = [1, \"hello\", 3.14, \"world\", 42, \"python\", 2.71, \"coding\"]\n",
    "\n",
    "# TODO: Separate by type\n",
    "numbers = None  # TODO: Filter for int and float types\n",
    "strings = None  # TODO: Filter for str type\n",
    "\n",
    "# TODO: Sort each\n",
    "\n",
    "# TODO: Combine\n",
    "clean_data = None  # TODO: Combine sorted numbers + sorted strings\n",
    "\n",
    "print(f\"Clean data: {clean_data}\")"
   ]
  }
 ],
 "metadata": {
  "kernelspec": {
   "display_name": ".venv",
   "language": "python",
   "name": "python3"
  },
  "language_info": {
   "codemirror_mode": {
    "name": "ipython",
    "version": 3
   },
   "file_extension": ".py",
   "mimetype": "text/x-python",
   "name": "python",
   "nbconvert_exporter": "python",
   "pygments_lexer": "ipython3",
   "version": "3.12.11"
  }
 },
 "nbformat": 4,
 "nbformat_minor": 4
}
