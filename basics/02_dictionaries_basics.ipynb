{
 "cells": [
  {
   "cell_type": "markdown",
   "metadata": {},
   "source": [
    "# Dictionary Basics - Foundation Exercises\n",
    "## 🟢 Beginner Level\n",
    "\n",
    "**Goal**: Master dictionary creation, key-value operations, and data organization\n",
    "\n",
    "**Time**: ~30 minutes\n",
    "\n",
    "---"
   ]
  },
  {
   "cell_type": "markdown",
   "metadata": {},
   "source": [
    "## Exercise 1: Student Grade Book\n",
    "\n",
    "**Instructions**: Create and manage a grade book dictionary\n",
    "\n",
    "**Tasks**:\n",
    "1. Create a dictionary with student names as keys and grades as values\n",
    "2. Add a new student\n",
    "3. Update an existing student's grade\n",
    "4. Find the student with the highest grade\n",
    "5. Calculate the class average\n",
    "6. List all students who passed (grade >= 70)"
   ]
  },
  {
   "cell_type": "code",
   "execution_count": null,
   "metadata": {},
   "outputs": [],
   "source": [
    "# Exercise 1: Your solution here\n",
    "\n",
    "# TODO: Create initial grade book\n",
    "grades = {\n",
    "    \"Alice\": 85,\n",
    "    \"Bob\": 78,\n",
    "    \"Charlie\": 92,\n",
    "    \"Diana\": 88\n",
    "}\n",
    "\n",
    "# TODO: Add new student \"Eve\" with grade 76\n",
    "\n",
    "# TODO: Update Bob's grade to 82\n",
    "\n",
    "# TODO: Find highest grade\n",
    "highest_student = None  # TODO: Use max() with key parameter\n",
    "highest_grade = None  # TODO: Get the maximum grade value\n",
    "\n",
    "# TODO: Calculate average\n",
    "average = None  # TODO: sum(grades.values()) / len(grades)\n",
    "\n",
    "# TODO: Find passing students\n",
    "passing_students = None  # TODO: Filter students with grade >= 70\n",
    "\n",
    "print(f\"Updated grades: {grades}\")\n",
    "print(f\"Highest: {highest_student} with {highest_grade}\")\n",
    "print(f\"Class average: {average:.1f}\")\n",
    "print(f\"Passing students: {passing_students}\")"
   ]
  },
  {
   "cell_type": "markdown",
   "metadata": {},
   "source": [
    "## Exercise 2: Inventory Management\n",
    "\n",
    "**Instructions**: Manage a store inventory using nested dictionaries\n",
    "\n",
    "**Tasks**:\n",
    "1. Create an inventory with items, quantities, and prices\n",
    "2. Add a new product\n",
    "3. Update stock quantity for an existing item\n",
    "4. Calculate total inventory value\n",
    "5. Find items with low stock (< 10 units)\n",
    "6. Get all product names"
   ]
  },
  {
   "cell_type": "code",
   "execution_count": null,
   "metadata": {},
   "outputs": [],
   "source": [
    "# Exercise 2: Your solution here\n",
    "\n",
    "# TODO: Create inventory (nested dictionaries)\n",
    "inventory = {\n",
    "    \"laptop\": {\"quantity\": 15, \"price\": 999.99},\n",
    "    \"mouse\": {\"quantity\": 50, \"price\": 25.99},\n",
    "    \"keyboard\": {\"quantity\": 8, \"price\": 79.99},\n",
    "    \"monitor\": {\"quantity\": 12, \"price\": 299.99}\n",
    "}\n",
    "\n",
    "# TODO: Add \"webcam\" with quantity 20 and price 89.99\n",
    "\n",
    "# TODO: Update mouse quantity to 30\n",
    "\n",
    "# TODO: Calculate total inventory value\n",
    "total_value = None  # TODO: Sum quantity * price for all items\n",
    "\n",
    "# TODO: Find low stock items (< 10)\n",
    "low_stock = None  # TODO: Filter items with quantity < 10\n",
    "\n",
    "# TODO: Get all product names\n",
    "products = None  # TODO: Get list of dictionary keys\n",
    "\n",
    "print(f\"Total value: ${total_value:.2f}\")\n",
    "print(f\"Low stock items: {low_stock}\")\n",
    "print(f\"All products: {products}\")"
   ]
  },
  {
   "cell_type": "markdown",
   "metadata": {},
   "source": [
    "## Exercise 3: Data Frequency Counter\n",
    "\n",
    "**Instructions**: Count occurrences of items in a list\n",
    "\n",
    "**Tasks**:\n",
    "1. Count letter frequency in a word\n",
    "2. Find the most common letter\n",
    "3. Count word frequency in a sentence\n",
    "4. Sort results by frequency\n",
    "\n",
    "**Hint**: Use `.get()` method or check if key exists first"
   ]
  },
  {
   "cell_type": "code",
   "execution_count": null,
   "metadata": {},
   "outputs": [],
   "source": [
    "# Exercise 3: Your solution here\n",
    "\n",
    "# TODO: Count letters in \"programming\"\n",
    "word = \"programming\"\n",
    "letter_count = {}\n",
    "\n",
    "# Method 1: Using .get()\n",
    "for letter in word:\n",
    "    letter_count[letter] = letter_count.get(letter, 0) + 1\n",
    "\n",
    "# TODO: Find most common letter\n",
    "most_common = None  # TODO: Use max() with key parameter on letter_count\n",
    "\n",
    "# TODO: Count words in sentence\n",
    "sentence = \"the quick brown fox jumps over the lazy dog\"\n",
    "words = sentence.split()\n",
    "word_count = {}\n",
    "\n",
    "# TODO: Complete word counting\n",
    "\n",
    "# TODO: Sort by frequency (descending)\n",
    "sorted_words = None  # TODO: Sort word_count items by value, descending\n",
    "\n",
    "print(f\"Letter count: {letter_count}\")\n",
    "print(f\"Most common letter: {most_common}\")\n",
    "print(f\"Word frequencies: {sorted_words}\")"
   ]
  }
 ],
 "metadata": {
  "kernelspec": {
   "display_name": "Python 3",
   "language": "python",
   "name": "python3"
  },
  "language_info": {
   "name": "python",
   "version": "3.8.5"
  }
 },
 "nbformat": 4,
 "nbformat_minor": 4
}
