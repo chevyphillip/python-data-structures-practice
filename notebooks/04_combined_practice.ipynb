{
 "cells": [
  {
   "cell_type": "markdown",
   "metadata": {},
   "source": [
    "# Combined Practice - Real-World Scenarios\n",
    "## 🟡 Intermediate Level\n",
    "\n",
    "**Goal**: Integrate lists, dictionaries, and sets in practical applications\n",
    "\n",
    "**Time**: ~45 minutes\n",
    "\n",
    "---"
   ]
  },
  {
   "cell_type": "markdown",
   "metadata": {},
   "source": [
    "## Scenario 1: Social Media Analytics\n",
    "\n",
    "**Context**: Analyze social media engagement data\n",
    "\n",
    "**Given**: List of posts with engagement metrics\n",
    "\n",
    "**Tasks**:\n",
    "1. Convert data to structured format\n",
    "2. Find most engaging post types\n",
    "3. Calculate average engagement by category\n",
    "4. Find unique hashtags across all posts\n",
    "5. Identify trending topics"
   ]
  },
  {
   "cell_type": "code",
   "execution_count": null,
   "metadata": {},
   "outputs": [],
   "source": [
    "# Scenario 1: Your solution here\n",
    "\n",
    "# Raw social media data\n",
    "posts_data = [\n",
    "    \"AI Update: New model released #AI #MachineLearning #Tech\", \"tech\", 245, 38, 12,\n",
    "    \"Python tip: Use list comprehensions #Python #Coding #Programming\", \"tutorial\", 189, 45, 8,\n",
    "    \"Coffee break thoughts #Personal #Life #Coffee\", \"personal\", 67, 12, 3,\n",
    "    \"Deep learning breakthrough #AI #DeepLearning #Research\", \"tech\", 312, 67, 23,\n",
    "    \"Weekend coding project #Python #WebDev #Personal\", \"project\", 156, 34, 7\n",
    "]\n",
    "\n",
    "# Data structure: [content, category, likes, shares, comments] repeating\n",
    "\n",
    "# TODO: Convert to list of dictionaries\n",
    "posts = []\n",
    "for i in range(0, len(posts_data), 5):\n",
    "    post = {\n",
    "        \"content\": posts_data[i],\n",
    "        \"category\": posts_data[i+1],\n",
    "        \"likes\": posts_data[i+2],\n",
    "        \"shares\": posts_data[i+3],\n",
    "        \"comments\": posts_data[i+4]\n",
    "    }\n",
    "    posts.append(post)\n",
    "\n",
    "# TODO: Calculate total engagement (likes + shares + comments)\n",
    "for post in posts:\n",
    "    post[\"total_engagement\"] = None  # TODO: likes + shares + comments\n",
    "\n",
    "# TODO: Find most engaging post\n",
    "most_engaging = None  # TODO: Use max() with key parameter\n",
    "\n",
    "# TODO: Average engagement by category\n",
    "category_stats = {}\n",
    "\n",
    "# TODO: Extract all unique hashtags\n",
    "all_hashtags = set()\n",
    "\n",
    "print(f\"Most engaging post: {most_engaging['content'][:50]}... ({most_engaging['total_engagement']} engagement)\")\n",
    "print(f\"Category averages: {category_stats}\")\n",
    "print(f\"All hashtags: {all_hashtags}\")"
   ]
  },
  {
   "cell_type": "markdown",
   "metadata": {},
   "source": [
    "## Scenario 2: E-commerce Order Processing\n",
    "\n",
    "**Context**: Process and analyze customer orders\n",
    "\n",
    "**Tasks**:\n",
    "1. Parse order data into structured format\n",
    "2. Calculate order totals and customer spending\n",
    "3. Find bestselling products\n",
    "4. Identify VIP customers (multiple orders)\n",
    "5. Track inventory changes"
   ]
  },
  {
   "cell_type": "code",
   "execution_count": null,
   "metadata": {},
   "outputs": [],
   "source": [
    "# Scenario 2: Your solution here\n",
    "\n",
    "# Order data: [customer, product, quantity, price_per_item]\n",
    "raw_orders = [\n",
    "    \"Alice\", \"Laptop\", 1, 999.99,\n",
    "    \"Bob\", \"Mouse\", 2, 25.99,\n",
    "    \"Alice\", \"Keyboard\", 1, 79.99,\n",
    "    \"Charlie\", \"Monitor\", 1, 299.99,\n",
    "    \"Bob\", \"Laptop\", 1, 999.99,\n",
    "    \"Diana\", \"Mouse\", 3, 25.99,\n",
    "    \"Alice\", \"Monitor\", 2, 299.99\n",
    "]\n",
    "\n",
    "# TODO: Convert to structured format\n",
    "orders = []\n",
    "\n",
    "# TODO: Calculate customer total spending\n",
    "customer_spending = {}\n",
    "\n",
    "# TODO: Count product sales\n",
    "product_sales = {}\n",
    "\n",
    "# TODO: Find VIP customers (more than 1 order)\n",
    "customer_order_count = {}\n",
    "vip_customers = None  # TODO: Filter customers with > 1 order\n",
    "\n",
    "# TODO: Find bestselling product\n",
    "bestseller = None  # TODO: Product with highest total sales\n",
    "\n",
    "print(f\"Customer spending: {customer_spending}\")\n",
    "print(f\"Product sales: {product_sales}\")\n",
    "print(f\"VIP customers: {vip_customers}\")\n",
    "print(f\"Bestselling product: {bestseller}\")"
   ]
  }
 ],
 "metadata": {
  "kernelspec": {
   "display_name": "Python 3",
   "language": "python",
   "name": "python3"
  },
  "language_info": {
   "name": "python",
   "version": "3.8.5"
  }
 },
 "nbformat": 4,
 "nbformat_minor": 4
}
