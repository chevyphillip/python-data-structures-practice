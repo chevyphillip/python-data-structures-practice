{
 "cells": [
  {
   "cell_type": "markdown",
   "metadata": {},
   "source": [
    "# Sets Basics - Foundation Exercises\n",
    "## 🟢 Beginner Level\n",
    "\n",
    "**Goal**: Master set operations, uniqueness, and mathematical set theory\n",
    "\n",
    "**Time**: ~25 minutes\n",
    "\n",
    "---"
   ]
  },
  {
   "cell_type": "markdown",
   "metadata": {},
   "source": [
    "## Exercise 1: Email List Cleanup\n",
    "\n",
    "**Instructions**: Clean up duplicate email addresses\n",
    "\n",
    "**Tasks**:\n",
    "1. Remove duplicates from email list\n",
    "2. Find common emails between two lists\n",
    "3. Find emails unique to each list\n",
    "4. Count total unique emails across all lists"
   ]
  },
  {
   "cell_type": "code",
   "execution_count": null,
   "metadata": {},
   "outputs": [],
   "source": [
    "# Exercise 1: Your solution here\n",
    "\n",
    "# Given data with duplicates\n",
    "newsletter_list = [\"alice@email.com\", \"bob@email.com\", \"charlie@email.com\", \n",
    "                   \"alice@email.com\", \"diana@email.com\", \"bob@email.com\"]\n",
    "\n",
    "promotion_list = [\"bob@email.com\", \"eve@email.com\", \"charlie@email.com\", \n",
    "                  \"frank@email.com\", \"alice@email.com\"]\n",
    "\n",
    "# TODO: Remove duplicates\n",
    "unique_newsletter = \n",
    "unique_promotion = \n",
    "\n",
    "# TODO: Find common emails (intersection)\n",
    "common_emails = \n",
    "\n",
    "# TODO: Find newsletter-only emails\n",
    "newsletter_only = \n",
    "\n",
    "# TODO: Find promotion-only emails  \n",
    "promotion_only = \n",
    "\n",
    "# TODO: Total unique emails (union)\n",
    "all_unique = \n",
    "\n",
    "print(f\"Newsletter unique: {unique_newsletter}\")\n",
    "print(f\"Promotion unique: {unique_promotion}\")\n",
    "print(f\"Common emails: {common_emails}\")\n",
    "print(f\"Newsletter only: {newsletter_only}\")\n",
    "print(f\"Promotion only: {promotion_only}\")\n",
    "print(f\"Total unique count: {len(all_unique)}\")"
   ]
  },
  {
   "cell_type": "markdown",
   "metadata": {},
   "source": [
    "## Exercise 2: Course Prerequisites\n",
    "\n",
    "**Instructions**: Manage course prerequisites and student eligibility\n",
    "\n",
    "**Tasks**:\n",
    "1. Check if a student has all prerequisites for a course\n",
    "2. Find missing prerequisites\n",
    "3. Find students eligible for advanced courses\n",
    "4. Create a \"super student\" set (students who exceed requirements)"
   ]
  },
  {
   "cell_type": "code",
   "execution_count": null,
   "metadata": {},
   "outputs": [],
   "source": [
    "# Exercise 2: Your solution here\n",
    "\n",
    "# Course prerequisites\n",
    "ai_course_prereqs = {\"Python\", \"Math\", \"Statistics\", \"Linear Algebra\"}\n",
    "web_dev_prereqs = {\"HTML\", \"CSS\", \"JavaScript\", \"Python\"}\n",
    "\n",
    "# Student completed courses\n",
    "alice_courses = {\"Python\", \"Math\", \"Statistics\", \"HTML\", \"CSS\"}\n",
    "bob_courses = {\"Python\", \"Math\", \"Statistics\", \"Linear Algebra\", \"JavaScript\"}\n",
    "charlie_courses = {\"HTML\", \"CSS\", \"JavaScript\", \"Python\", \"React\"}\n",
    "\n",
    "# TODO: Check if Alice can take AI course\n",
    "alice_can_take_ai = \n",
    "\n",
    "# TODO: Find Alice's missing prerequisites for AI\n",
    "alice_missing_ai = \n",
    "\n",
    "# TODO: Check who can take web development\n",
    "students = {\n",
    "    \"Alice\": alice_courses,\n",
    "    \"Bob\": bob_courses, \n",
    "    \"Charlie\": charlie_courses\n",
    "}\n",
    "\n",
    "web_eligible = \n",
    "\n",
    "# TODO: Find \"super students\" (have both AI and Web Dev prereqs)\n",
    "all_prereqs = ai_course_prereqs.union(web_dev_prereqs)\n",
    "super_students = \n",
    "\n",
    "print(f\"Alice can take AI: {alice_can_take_ai}\")\n",
    "print(f\"Alice missing for AI: {alice_missing_ai}\")\n",
    "print(f\"Web Dev eligible: {web_eligible}\")\n",
    "print(f\"Super students: {super_students}\")"
   ]
  },
  {
   "cell_type": "markdown",
   "metadata": {},
   "source": [
    "## Exercise 3: Text Analysis with Sets\n",
    "\n",
    "**Instructions**: Analyze text using set operations\n",
    "\n",
    "**Tasks**:\n",
    "1. Find unique words in two documents\n",
    "2. Find words common to both documents\n",
    "3. Find words unique to each document\n",
    "4. Calculate similarity percentage\n",
    "\n",
    "**Formula**: Similarity = (common_words / total_unique_words) * 100"
   ]
  },
  {
   "cell_type": "code",
   "execution_count": null,
   "metadata": {},
   "outputs": [],
   "source": [
    "# Exercise 3: Your solution here\n",
    "\n",
    "doc1 = \"machine learning artificial intelligence python programming\"\n",
    "doc2 = \"python programming data science machine learning algorithms\"\n",
    "\n",
    "# TODO: Convert to sets of words\n",
    "words1 = None  # TODO: Convert doc1.split() to set\n",
    "words2 = None  # TODO: Convert doc2.split() to set\n",
    "\n",
    "# TODO: Find common words\n",
    "common_words = None  # TODO: Use set intersection (&)\n",
    "\n",
    "# TODO: Find unique to each document\n",
    "unique_to_doc1 = None  # TODO: Use set difference (-)\n",
    "unique_to_doc2 = None  # TODO: Use set difference (-)\n",
    "\n",
    "# TODO: Calculate similarity percentage\n",
    "total_unique = None  # TODO: Union of both sets\n",
    "similarity = None  # TODO: (common / total) * 100\n",
    "\n",
    "print(f\"Document 1 words: {words1}\")\n",
    "print(f\"Document 2 words: {words2}\")\n",
    "print(f\"Common words: {common_words}\")\n",
    "print(f\"Unique to doc1: {unique_to_doc1}\")\n",
    "print(f\"Unique to doc2: {unique_to_doc2}\")\n",
    "print(f\"Similarity: {similarity:.1f}%\")"
   ]
  }
 ],
 "metadata": {
  "kernelspec": {
   "display_name": "Python 3",
   "language": "python",
   "name": "python3"
  },
  "language_info": {
   "name": "python",
   "version": "3.8.5"
  }
 },
 "nbformat": 4,
 "nbformat_minor": 4
}
